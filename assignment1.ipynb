{
 "cells": [
  {
   "cell_type": "code",
   "execution_count": null,
   "metadata": {},
   "outputs": [],
   "source": [
    "a=[]\n",
    "for x in range(2000,3201):\n",
    " if(x%7==0) and (x%5!=0):\n",
    "    a.append(str(x))\n",
    "print(\"The number which are divisble by 7 and not multiply by 5 are as below: \\n\")\n",
    "\n",
    "print(','.join(a))"
   ]
  },
  {
   "cell_type": "code",
   "execution_count": null,
   "metadata": {},
   "outputs": [],
   "source": [
    "first_name = input(\" Enter your first name : \")\n",
    "fname = first_name [::-1]\n",
    "last_name = input(\" Enter your last name : \")\n",
    "lname = last_name [::-1]\n",
    "print(lname + \" \" + fname)"
   ]
  },
  {
   "cell_type": "code",
   "execution_count": null,
   "metadata": {},
   "outputs": [],
   "source": [
    "diameter = 12\n",
    "radius = diameter/2\n",
    "volume= (4/3) * (22/7) *(radius*radius*radius)\n",
    "print(\"volume of a sphere is :\", volume)"
   ]
  }
 ],
 "metadata": {
  "kernelspec": {
   "display_name": "Python 3",
   "language": "python",
   "name": "python3"
  },
  "language_info": {
   "codemirror_mode": {
    "name": "ipython",
    "version": 3
   },
   "file_extension": ".py",
   "mimetype": "text/x-python",
   "name": "python",
   "nbconvert_exporter": "python",
   "pygments_lexer": "ipython3",
   "version": "3.8.5"
  }
 },
 "nbformat": 4,
 "nbformat_minor": 4
}
